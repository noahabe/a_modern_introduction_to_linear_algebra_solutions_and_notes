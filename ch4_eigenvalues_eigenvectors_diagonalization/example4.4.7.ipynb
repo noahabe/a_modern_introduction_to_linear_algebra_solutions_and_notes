{
 "cells": [
  {
   "attachments": {},
   "cell_type": "markdown",
   "metadata": {},
   "source": [
    "# An Application of Eigenvalues and Eigenvectors \n",
    "\n",
    "A car rental company has offices in Manhattan and the Bronx. Relying on its records, the company knows that on a monthly basis $40\\% $ of rentals from the Manhattan office are returned there and $60\\%$ are one-way rentals that are dropped off in the Bronx. Similarly, $70\\%$ of rentals from the Bronx office are returned there, whereas $30\\%$ are dropped off in Manhattan. \n",
    "\n",
    "Let $m_k$ and $b_k$ denote the number of cars at the depots in Manhattan and the Bronx, respectively, at the beginning of month $k$ ($k = 0, 1, 2, ...$). One month later, the cars at the Manhattan location consist of those returned there during the previous month (i.e., $40\\%$ of $m_k$), together with those dropped off on a one-way rental from the Bronx office (i.e. $30 \\%$ of $b_k$). Similarly, the cars at the Bronx location consist of those returned there during the previous month (i.e., $70\\%$ of $b_k$), together with those dropped off on a one-way rental from the Manhattan office (i.e. $60\\%$ of $m_k$). We can express this information in terms of _difference equations_ (which are analogous to differential equations): \n",
    "\n",
    "$$ \n",
    "\\begin{cases}\n",
    "    m_{k+1} = 0.4m_k + 0.3b_k\\\\\n",
    "    b_{k+1} = 0.6m_k + 0.7b_k \n",
    "\\end{cases}\n",
    "\n",
    "\\hspace{1cm}\n",
    "k = 0, 1, 2, ...\n",
    "$$"
   ]
  },
  {
   "attachments": {},
   "cell_type": "markdown",
   "metadata": {},
   "source": [
    "The matrix-vector form of this system is: \n",
    "\n",
    "$$\n",
    "\\begin{bmatrix}\n",
    "m_{k+1} \\\\\n",
    "b_{k+1} \\\\ \n",
    "\\end{bmatrix} = \n",
    "\n",
    "\\begin{bmatrix}\n",
    "0.4 & 0.3 \\\\\n",
    "0.6 & 0.7 \\\\ \n",
    "\\end{bmatrix}\n",
    "\n",
    "\n",
    "\\begin{bmatrix}\n",
    "m_k \\\\\n",
    "b_k \\\\ \n",
    "\\end{bmatrix}\n",
    "\n",
    "\\hspace{1cm}\n",
    "k = 0, 1, 2, ...\n",
    "$$\n",
    "\n"
   ]
  },
  {
   "attachments": {},
   "cell_type": "markdown",
   "metadata": {},
   "source": [
    "which we can write compactly as $X_{k+1} = AX_k$. We notice that \n",
    "\n",
    "$$\n",
    "X_1 = A X_0 \\hspace{1.3cm} \\\\\n",
    "X_2 = A X_1 = A^2 X_0 \\\\\n",
    "X_3 = A X_2 = A^3 X_0 \\\\ \n",
    "X_4 = A X_3 = A^4 X_0 \\\\ \n",
    "\\vdots \\hspace{1cm} \\vdots \\hspace{1.2cm}\\\\\n",
    "X_k = A^k X_0 \\hspace{1.2cm}\n",
    "$$"
   ]
  },
  {
   "attachments": {},
   "cell_type": "markdown",
   "metadata": {},
   "source": [
    "Now, let's find the eigenvectors and eigenvalues of $A$: "
   ]
  },
  {
   "cell_type": "code",
   "execution_count": 2,
   "metadata": {},
   "outputs": [
    {
     "name": "stdout",
     "output_type": "stream",
     "text": [
      "Eigenvalues: \n",
      " [0.1 1. ] \n",
      "\n",
      "Eigenvectors: \n",
      " [[-0.70710678 -0.4472136 ]\n",
      " [ 0.70710678 -0.89442719]]\n"
     ]
    }
   ],
   "source": [
    "import numpy as np \n",
    "\n",
    "A = np.array([\n",
    "    [0.4, 0.3], \n",
    "    [0.6, 0.7],\n",
    "])\n",
    "\n",
    "eigenvalues, eigenvectors = np.linalg.eig(A)\n",
    "\n",
    "print(\"Eigenvalues: \\n\", eigenvalues, \"\\n\") \n",
    "print(\"Eigenvectors: \\n\", eigenvectors)\n"
   ]
  },
  {
   "attachments": {},
   "cell_type": "markdown",
   "metadata": {},
   "source": [
    "Thus the eigenpairs for $A$, are $(\\lambda_1, v_1) = \\Bigg(1, \\begin{bmatrix}\n",
    "-0.4472136\\\\ \n",
    "-0.89442719 \\\\ \n",
    "\\end{bmatrix}\\Bigg)$ and $(\\lambda_2, v_2) = \\Bigg(0.1, \\begin{bmatrix}\n",
    "-0.70710678\\\\ \n",
    "0.70710678 \\\\ \n",
    "\\end{bmatrix}\\Bigg)$"
   ]
  },
  {
   "attachments": {},
   "cell_type": "markdown",
   "metadata": {},
   "source": [
    "Since the eigenvectors $v_1$ and $v_2$ correspond to distinct eigenvalues of $A$, we know that they are linearly independent (by theorem 4.4.4). Thus the eigenvectors form a basis for $\\mathbb{R}^2$, we can write any inital vector $X_0$ uniquely as $X_0 = c_1 v_1 + c_2 v_2$. "
   ]
  },
  {
   "attachments": {},
   "cell_type": "markdown",
   "metadata": {},
   "source": [
    "$$\n",
    "X_k = A^k X_0 = A^k (c_1 v_1 + c_2 v_2) = c_1 \\lambda _1 ^ k v_1 + c_2 \\lambda _2 ^ k v_2 = c_1 v_1 + c_2 (0.1)^k v_2\n",
    "$$"
   ]
  },
  {
   "attachments": {},
   "cell_type": "markdown",
   "metadata": {},
   "source": [
    "Thus, "
   ]
  },
  {
   "attachments": {},
   "cell_type": "markdown",
   "metadata": {},
   "source": [
    "$$\n",
    "\\lim_{k \\rightarrow \\infty} X_k = c_1 v_1\n",
    "$$"
   ]
  },
  {
   "cell_type": "code",
   "execution_count": 5,
   "metadata": {},
   "outputs": [
    {
     "name": "stdout",
     "output_type": "stream",
     "text": [
      "v_1: [-0.4472136  -0.89442719]\n",
      "v_1 factored out: [1. 2.]\n"
     ]
    }
   ],
   "source": [
    "v_1 = eigenvectors[:, 1]\n",
    "print(f\"v_1: {v_1}\")\n",
    "print(f\"v_1 factored out: {v_1/v_1[0]}\")\n"
   ]
  },
  {
   "attachments": {},
   "cell_type": "markdown",
   "metadata": {},
   "source": [
    "Thus, \n",
    "\n",
    "$$\n",
    "\\lim_{k \\rightarrow \\infty} X_k = c_1 v_1 =  -0.4472136 c_1 \\begin{bmatrix}\n",
    "1\\\\ \n",
    "2\\\\ \n",
    "\\end{bmatrix} = c_3 \\begin{bmatrix}\n",
    "1\\\\ \n",
    "2\\\\ \n",
    "\\end{bmatrix} =  \\begin{bmatrix}\n",
    "c_3\\\\ \n",
    "2 c_3\\\\ \n",
    "\\end{bmatrix} = \\lim_{k \\rightarrow \\infty} \\begin{bmatrix}\n",
    "m_k\\\\ \n",
    "b_k\\\\ \n",
    "\\end{bmatrix}\n",
    "$$"
   ]
  },
  {
   "attachments": {},
   "cell_type": "markdown",
   "metadata": {},
   "source": [
    "Thus, over time, the number of cars in the Manhattan depot tends to a value that's half the number of cars at the Bronx office. "
   ]
  },
  {
   "attachments": {},
   "cell_type": "markdown",
   "metadata": {},
   "source": [
    "## Time for a simulation..."
   ]
  },
  {
   "cell_type": "code",
   "execution_count": 6,
   "metadata": {},
   "outputs": [],
   "source": [
    "def simulate(manhattan_inital: int, bronx_inital: int, number_of_months: int): \n",
    "    m = manhattan_inital\n",
    "    b = bronx_inital\n",
    "\n",
    "    for _ in range(number_of_months): \n",
    "        m, b = 0.4 * m + 0.3 * b, 0.6 * m + 0.7 * b \n",
    "    \n",
    "    print(f\"Number of cars in Manhattan after {number_of_months} months: \", m)\n",
    "    print(f\"Number of cars in The Bronx after {number_of_months} months: \", b)\n"
   ]
  },
  {
   "cell_type": "code",
   "execution_count": 7,
   "metadata": {},
   "outputs": [
    {
     "name": "stdout",
     "output_type": "stream",
     "text": [
      "Number of cars in Manhattan after 50 months:  633.3333333333329\n",
      "Number of cars in The Bronx after 50 months:  1266.6666666666658\n"
     ]
    }
   ],
   "source": [
    "simulate(manhattan_inital=1000, bronx_inital=900, number_of_months=50)"
   ]
  },
  {
   "cell_type": "code",
   "execution_count": 8,
   "metadata": {},
   "outputs": [
    {
     "data": {
      "text/plain": [
       "1266"
      ]
     },
     "execution_count": 8,
     "metadata": {},
     "output_type": "execute_result"
    }
   ],
   "source": [
    "633 * 2 "
   ]
  },
  {
   "attachments": {},
   "cell_type": "markdown",
   "metadata": {},
   "source": [
    "Thus our mathematical conclusion that the number of cars in The Bronx would be twice as much as the number of cars in Manhattan is correct (given enough time). "
   ]
  }
 ],
 "metadata": {
  "kernelspec": {
   "display_name": "Python 3",
   "language": "python",
   "name": "python3"
  },
  "language_info": {
   "codemirror_mode": {
    "name": "ipython",
    "version": 3
   },
   "file_extension": ".py",
   "mimetype": "text/x-python",
   "name": "python",
   "nbconvert_exporter": "python",
   "pygments_lexer": "ipython3",
   "version": "3.10.6"
  },
  "orig_nbformat": 4
 },
 "nbformat": 4,
 "nbformat_minor": 2
}
